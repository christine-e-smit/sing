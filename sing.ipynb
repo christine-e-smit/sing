{
 "cells": [
  {
   "cell_type": "markdown",
   "id": "03f1ff31-1139-4821-bc5b-bf8f87a004cd",
   "metadata": {},
   "source": [
    "# Make Python Sing!"
   ]
  },
  {
   "cell_type": "code",
   "execution_count": 33,
   "id": "4622896f-7aac-4f59-aa8c-71a07839e44b",
   "metadata": {},
   "outputs": [],
   "source": [
    "def note_to_frequency(note):\n",
    "    \"\"\"\n",
    "    Specify the note as a letter note, optional modifier (b,bb,#,##), and octave number.\n",
    "    \"\"\"\n",
    "    note_letter = note[0].upper()\n",
    "    octave = int(note[-1])\n",
    "    half_step_mod = 0\n",
    "    if len(note) > 2:\n",
    "        modifier = note[1:-1]\n",
    "        half_step_mod = {\n",
    "            \"b\":-1,\n",
    "            \"bb\":-2,\n",
    "            \"#\":1,\n",
    "            \"##\":2\n",
    "        }[modifier]\n",
    "\n",
    "    # reference frequency is A4 = 440 Hz\n",
    "    a4 = 440\n",
    "    # calculate which octave we are in relative to a4\n",
    "    octaves_from_a4 = octave - 4\n",
    "    # calculate how many half steps this note letter is from A in the\n",
    "    # same octave\n",
    "    note_letter_distance = {\n",
    "        \"A\": 0,\n",
    "        \"B\": 2,\n",
    "        \"C\": -9,\n",
    "        \"D\": -7,\n",
    "        \"E\": -5,\n",
    "        \"F\": -4,\n",
    "        \"G\": -2,\n",
    "    }[note_letter]\n",
    "    # calculate how many half steps away we are total\n",
    "    total_half_steps = octaves_from_a4*12 + note_letter_distance + half_step_mod\n",
    "    # calculate the frequency. For simplicity, just use equal-tempered tuning.\n",
    "    frequency = a4*(2**(total_half_steps/12))\n",
    "    return frequency\n",
    "    \n",
    "        "
   ]
  },
  {
   "cell_type": "code",
   "execution_count": 40,
   "id": "360d25f6-2c5b-4916-b9f6-081342e4414d",
   "metadata": {},
   "outputs": [
    {
     "data": {
      "text/plain": [
       "123.47082531403103"
      ]
     },
     "execution_count": 40,
     "metadata": {},
     "output_type": "execute_result"
    }
   ],
   "source": []
  },
  {
   "cell_type": "code",
   "execution_count": 26,
   "id": "77db3885-dac2-4e7b-abad-0c222cc7c044",
   "metadata": {},
   "outputs": [
    {
     "data": {
      "text/plain": [
       "'#'"
      ]
     },
     "execution_count": 26,
     "metadata": {},
     "output_type": "execute_result"
    }
   ],
   "source": [
    "\"D#3\"[1:-1]"
   ]
  },
  {
   "cell_type": "code",
   "execution_count": null,
   "id": "e3af8e19-4097-4563-9c8f-78d75f777713",
   "metadata": {},
   "outputs": [],
   "source": []
  }
 ],
 "metadata": {
  "kernelspec": {
   "display_name": "Python 3 (ipykernel)",
   "language": "python",
   "name": "python3"
  },
  "language_info": {
   "codemirror_mode": {
    "name": "ipython",
    "version": 3
   },
   "file_extension": ".py",
   "mimetype": "text/x-python",
   "name": "python",
   "nbconvert_exporter": "python",
   "pygments_lexer": "ipython3",
   "version": "3.12.4"
  }
 },
 "nbformat": 4,
 "nbformat_minor": 5
}
